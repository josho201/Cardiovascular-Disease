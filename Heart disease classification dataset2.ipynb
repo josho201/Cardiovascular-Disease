{
 "cells": [
  {
   "cell_type": "markdown",
   "id": "452eceb0",
   "metadata": {},
   "source": [
    "# Predicting heart disease with Sklearn\n",
    "\n",
    "This notebook uses python and many helpful libraries to predict whether or not a patient has heart disease training a machine learning model with the dataset from https://www.kaggle.com/sulianova/cardiovascular-disease-dataset\n",
    "\n",
    "## Data and features\n",
    "Data description\n",
    "There are 3 types of input features:\n",
    "\n",
    "Objective: factual information;\n",
    "Examination: results of medical examination;\n",
    "Subjective: information given by the patient.\n",
    "Features:\n",
    "\n",
    "- Age: Objective Feature | age | int (days)\n",
    "- Height: Objective Feature | height | int (cm) |\n",
    "- Weight: Objective Feature | weight | float (kg) |\n",
    "- Gender: Objective Feature | gender | categorical code | 1 - women, 2 - men\n",
    "- Systolic blood pressure: Examination Feature | ap_hi | int |\n",
    "- Diastolic blood pressure: Examination Feature | ap_lo | int |\n",
    "- Cholesterol | Examination Feature | cholesterol | 1: normal, 2: above normal, 3: well above normal |\n",
    "- Glucose: Examination Feature | gluc | 1: normal, 2: above normal, 3: well above normal |\n",
    "- Smoking: Subjective Feature | smoke | binary |\n",
    "- Alcohol intake: Subjective Feature | alco | binary |\n",
    "- Physical activity: Subjective Feature | active | binary |\n",
    "- Presence or absence of cardiovascular disease: Target Variable | cardio | binary | 1 = disease, 0 = no disease"
   ]
  },
  {
   "cell_type": "code",
   "execution_count": 1,
   "id": "16a27fa2",
   "metadata": {},
   "outputs": [],
   "source": [
    "# imports for data analysis and plot\n",
    "import numpy as np\n",
    "import pandas as pd\n",
    "%matplotlib inline\n",
    "import matplotlib.pyplot as plt\n",
    "import seaborn as sns\n",
    "\n",
    "# import models to use from sklearn\n",
    "from sklearn.ensemble import RandomForestClassifier\n",
    "from sklearn.model_selection import RandomizedSearchCV\n",
    "from sklearn.linear_model import LogisticRegression\n",
    "\n",
    "# import fuctions for model evaluation and tuning \n",
    "from sklearn.preprocessing import StandardScaler\n",
    "from sklearn.model_selection import train_test_split, cross_val_score, RandomizedSearchCV\n",
    "from sklearn.metrics import classification_report, confusion_matrix, f1_score, recall_score, precision_score, plot_roc_curve"
   ]
  },
  {
   "cell_type": "markdown",
   "id": "57712669",
   "metadata": {},
   "source": [
    "### Import the data and view it"
   ]
  },
  {
   "cell_type": "code",
   "execution_count": 2,
   "id": "965f1fe6",
   "metadata": {},
   "outputs": [
    {
     "data": {
      "text/html": [
       "<div>\n",
       "<style scoped>\n",
       "    .dataframe tbody tr th:only-of-type {\n",
       "        vertical-align: middle;\n",
       "    }\n",
       "\n",
       "    .dataframe tbody tr th {\n",
       "        vertical-align: top;\n",
       "    }\n",
       "\n",
       "    .dataframe thead th {\n",
       "        text-align: right;\n",
       "    }\n",
       "</style>\n",
       "<table border=\"1\" class=\"dataframe\">\n",
       "  <thead>\n",
       "    <tr style=\"text-align: right;\">\n",
       "      <th></th>\n",
       "      <th>id</th>\n",
       "      <th>age</th>\n",
       "      <th>gender</th>\n",
       "      <th>height</th>\n",
       "      <th>weight</th>\n",
       "      <th>ap_hi</th>\n",
       "      <th>ap_lo</th>\n",
       "      <th>cholesterol</th>\n",
       "      <th>gluc</th>\n",
       "      <th>smoke</th>\n",
       "      <th>alco</th>\n",
       "      <th>active</th>\n",
       "      <th>cardio</th>\n",
       "    </tr>\n",
       "  </thead>\n",
       "  <tbody>\n",
       "    <tr>\n",
       "      <th>0</th>\n",
       "      <td>0</td>\n",
       "      <td>18393</td>\n",
       "      <td>2</td>\n",
       "      <td>168</td>\n",
       "      <td>62.0</td>\n",
       "      <td>110</td>\n",
       "      <td>80</td>\n",
       "      <td>1</td>\n",
       "      <td>1</td>\n",
       "      <td>0</td>\n",
       "      <td>0</td>\n",
       "      <td>1</td>\n",
       "      <td>0</td>\n",
       "    </tr>\n",
       "    <tr>\n",
       "      <th>1</th>\n",
       "      <td>1</td>\n",
       "      <td>20228</td>\n",
       "      <td>1</td>\n",
       "      <td>156</td>\n",
       "      <td>85.0</td>\n",
       "      <td>140</td>\n",
       "      <td>90</td>\n",
       "      <td>3</td>\n",
       "      <td>1</td>\n",
       "      <td>0</td>\n",
       "      <td>0</td>\n",
       "      <td>1</td>\n",
       "      <td>1</td>\n",
       "    </tr>\n",
       "    <tr>\n",
       "      <th>2</th>\n",
       "      <td>2</td>\n",
       "      <td>18857</td>\n",
       "      <td>1</td>\n",
       "      <td>165</td>\n",
       "      <td>64.0</td>\n",
       "      <td>130</td>\n",
       "      <td>70</td>\n",
       "      <td>3</td>\n",
       "      <td>1</td>\n",
       "      <td>0</td>\n",
       "      <td>0</td>\n",
       "      <td>0</td>\n",
       "      <td>1</td>\n",
       "    </tr>\n",
       "    <tr>\n",
       "      <th>3</th>\n",
       "      <td>3</td>\n",
       "      <td>17623</td>\n",
       "      <td>2</td>\n",
       "      <td>169</td>\n",
       "      <td>82.0</td>\n",
       "      <td>150</td>\n",
       "      <td>100</td>\n",
       "      <td>1</td>\n",
       "      <td>1</td>\n",
       "      <td>0</td>\n",
       "      <td>0</td>\n",
       "      <td>1</td>\n",
       "      <td>1</td>\n",
       "    </tr>\n",
       "    <tr>\n",
       "      <th>4</th>\n",
       "      <td>4</td>\n",
       "      <td>17474</td>\n",
       "      <td>1</td>\n",
       "      <td>156</td>\n",
       "      <td>56.0</td>\n",
       "      <td>100</td>\n",
       "      <td>60</td>\n",
       "      <td>1</td>\n",
       "      <td>1</td>\n",
       "      <td>0</td>\n",
       "      <td>0</td>\n",
       "      <td>0</td>\n",
       "      <td>0</td>\n",
       "    </tr>\n",
       "    <tr>\n",
       "      <th>...</th>\n",
       "      <td>...</td>\n",
       "      <td>...</td>\n",
       "      <td>...</td>\n",
       "      <td>...</td>\n",
       "      <td>...</td>\n",
       "      <td>...</td>\n",
       "      <td>...</td>\n",
       "      <td>...</td>\n",
       "      <td>...</td>\n",
       "      <td>...</td>\n",
       "      <td>...</td>\n",
       "      <td>...</td>\n",
       "      <td>...</td>\n",
       "    </tr>\n",
       "    <tr>\n",
       "      <th>69995</th>\n",
       "      <td>99993</td>\n",
       "      <td>19240</td>\n",
       "      <td>2</td>\n",
       "      <td>168</td>\n",
       "      <td>76.0</td>\n",
       "      <td>120</td>\n",
       "      <td>80</td>\n",
       "      <td>1</td>\n",
       "      <td>1</td>\n",
       "      <td>1</td>\n",
       "      <td>0</td>\n",
       "      <td>1</td>\n",
       "      <td>0</td>\n",
       "    </tr>\n",
       "    <tr>\n",
       "      <th>69996</th>\n",
       "      <td>99995</td>\n",
       "      <td>22601</td>\n",
       "      <td>1</td>\n",
       "      <td>158</td>\n",
       "      <td>126.0</td>\n",
       "      <td>140</td>\n",
       "      <td>90</td>\n",
       "      <td>2</td>\n",
       "      <td>2</td>\n",
       "      <td>0</td>\n",
       "      <td>0</td>\n",
       "      <td>1</td>\n",
       "      <td>1</td>\n",
       "    </tr>\n",
       "    <tr>\n",
       "      <th>69997</th>\n",
       "      <td>99996</td>\n",
       "      <td>19066</td>\n",
       "      <td>2</td>\n",
       "      <td>183</td>\n",
       "      <td>105.0</td>\n",
       "      <td>180</td>\n",
       "      <td>90</td>\n",
       "      <td>3</td>\n",
       "      <td>1</td>\n",
       "      <td>0</td>\n",
       "      <td>1</td>\n",
       "      <td>0</td>\n",
       "      <td>1</td>\n",
       "    </tr>\n",
       "    <tr>\n",
       "      <th>69998</th>\n",
       "      <td>99998</td>\n",
       "      <td>22431</td>\n",
       "      <td>1</td>\n",
       "      <td>163</td>\n",
       "      <td>72.0</td>\n",
       "      <td>135</td>\n",
       "      <td>80</td>\n",
       "      <td>1</td>\n",
       "      <td>2</td>\n",
       "      <td>0</td>\n",
       "      <td>0</td>\n",
       "      <td>0</td>\n",
       "      <td>1</td>\n",
       "    </tr>\n",
       "    <tr>\n",
       "      <th>69999</th>\n",
       "      <td>99999</td>\n",
       "      <td>20540</td>\n",
       "      <td>1</td>\n",
       "      <td>170</td>\n",
       "      <td>72.0</td>\n",
       "      <td>120</td>\n",
       "      <td>80</td>\n",
       "      <td>2</td>\n",
       "      <td>1</td>\n",
       "      <td>0</td>\n",
       "      <td>0</td>\n",
       "      <td>1</td>\n",
       "      <td>0</td>\n",
       "    </tr>\n",
       "  </tbody>\n",
       "</table>\n",
       "<p>70000 rows × 13 columns</p>\n",
       "</div>"
      ],
      "text/plain": [
       "          id    age  gender  height  weight  ap_hi  ap_lo  cholesterol  gluc  \\\n",
       "0          0  18393       2     168    62.0    110     80            1     1   \n",
       "1          1  20228       1     156    85.0    140     90            3     1   \n",
       "2          2  18857       1     165    64.0    130     70            3     1   \n",
       "3          3  17623       2     169    82.0    150    100            1     1   \n",
       "4          4  17474       1     156    56.0    100     60            1     1   \n",
       "...      ...    ...     ...     ...     ...    ...    ...          ...   ...   \n",
       "69995  99993  19240       2     168    76.0    120     80            1     1   \n",
       "69996  99995  22601       1     158   126.0    140     90            2     2   \n",
       "69997  99996  19066       2     183   105.0    180     90            3     1   \n",
       "69998  99998  22431       1     163    72.0    135     80            1     2   \n",
       "69999  99999  20540       1     170    72.0    120     80            2     1   \n",
       "\n",
       "       smoke  alco  active  cardio  \n",
       "0          0     0       1       0  \n",
       "1          0     0       1       1  \n",
       "2          0     0       0       1  \n",
       "3          0     0       1       1  \n",
       "4          0     0       0       0  \n",
       "...      ...   ...     ...     ...  \n",
       "69995      1     0       1       0  \n",
       "69996      0     0       1       1  \n",
       "69997      0     1       0       1  \n",
       "69998      0     0       0       1  \n",
       "69999      0     0       1       0  \n",
       "\n",
       "[70000 rows x 13 columns]"
      ]
     },
     "execution_count": 2,
     "metadata": {},
     "output_type": "execute_result"
    }
   ],
   "source": [
    "data = pd.read_csv('data/cardio_train.csv', sep = ';')\n",
    "data"
   ]
  },
  {
   "cell_type": "markdown",
   "id": "8f84f376",
   "metadata": {},
   "source": [
    "### Drop the `id` column, because is useless"
   ]
  },
  {
   "cell_type": "code",
   "execution_count": 3,
   "id": "f5302476",
   "metadata": {},
   "outputs": [
    {
     "data": {
      "text/html": [
       "<div>\n",
       "<style scoped>\n",
       "    .dataframe tbody tr th:only-of-type {\n",
       "        vertical-align: middle;\n",
       "    }\n",
       "\n",
       "    .dataframe tbody tr th {\n",
       "        vertical-align: top;\n",
       "    }\n",
       "\n",
       "    .dataframe thead th {\n",
       "        text-align: right;\n",
       "    }\n",
       "</style>\n",
       "<table border=\"1\" class=\"dataframe\">\n",
       "  <thead>\n",
       "    <tr style=\"text-align: right;\">\n",
       "      <th></th>\n",
       "      <th>age</th>\n",
       "      <th>gender</th>\n",
       "      <th>height</th>\n",
       "      <th>weight</th>\n",
       "      <th>ap_hi</th>\n",
       "      <th>ap_lo</th>\n",
       "      <th>cholesterol</th>\n",
       "      <th>gluc</th>\n",
       "      <th>smoke</th>\n",
       "      <th>alco</th>\n",
       "      <th>active</th>\n",
       "      <th>cardio</th>\n",
       "    </tr>\n",
       "  </thead>\n",
       "  <tbody>\n",
       "    <tr>\n",
       "      <th>0</th>\n",
       "      <td>18393</td>\n",
       "      <td>2</td>\n",
       "      <td>168</td>\n",
       "      <td>62.0</td>\n",
       "      <td>110</td>\n",
       "      <td>80</td>\n",
       "      <td>1</td>\n",
       "      <td>1</td>\n",
       "      <td>0</td>\n",
       "      <td>0</td>\n",
       "      <td>1</td>\n",
       "      <td>0</td>\n",
       "    </tr>\n",
       "    <tr>\n",
       "      <th>1</th>\n",
       "      <td>20228</td>\n",
       "      <td>1</td>\n",
       "      <td>156</td>\n",
       "      <td>85.0</td>\n",
       "      <td>140</td>\n",
       "      <td>90</td>\n",
       "      <td>3</td>\n",
       "      <td>1</td>\n",
       "      <td>0</td>\n",
       "      <td>0</td>\n",
       "      <td>1</td>\n",
       "      <td>1</td>\n",
       "    </tr>\n",
       "    <tr>\n",
       "      <th>2</th>\n",
       "      <td>18857</td>\n",
       "      <td>1</td>\n",
       "      <td>165</td>\n",
       "      <td>64.0</td>\n",
       "      <td>130</td>\n",
       "      <td>70</td>\n",
       "      <td>3</td>\n",
       "      <td>1</td>\n",
       "      <td>0</td>\n",
       "      <td>0</td>\n",
       "      <td>0</td>\n",
       "      <td>1</td>\n",
       "    </tr>\n",
       "    <tr>\n",
       "      <th>3</th>\n",
       "      <td>17623</td>\n",
       "      <td>2</td>\n",
       "      <td>169</td>\n",
       "      <td>82.0</td>\n",
       "      <td>150</td>\n",
       "      <td>100</td>\n",
       "      <td>1</td>\n",
       "      <td>1</td>\n",
       "      <td>0</td>\n",
       "      <td>0</td>\n",
       "      <td>1</td>\n",
       "      <td>1</td>\n",
       "    </tr>\n",
       "    <tr>\n",
       "      <th>4</th>\n",
       "      <td>17474</td>\n",
       "      <td>1</td>\n",
       "      <td>156</td>\n",
       "      <td>56.0</td>\n",
       "      <td>100</td>\n",
       "      <td>60</td>\n",
       "      <td>1</td>\n",
       "      <td>1</td>\n",
       "      <td>0</td>\n",
       "      <td>0</td>\n",
       "      <td>0</td>\n",
       "      <td>0</td>\n",
       "    </tr>\n",
       "    <tr>\n",
       "      <th>...</th>\n",
       "      <td>...</td>\n",
       "      <td>...</td>\n",
       "      <td>...</td>\n",
       "      <td>...</td>\n",
       "      <td>...</td>\n",
       "      <td>...</td>\n",
       "      <td>...</td>\n",
       "      <td>...</td>\n",
       "      <td>...</td>\n",
       "      <td>...</td>\n",
       "      <td>...</td>\n",
       "      <td>...</td>\n",
       "    </tr>\n",
       "    <tr>\n",
       "      <th>69995</th>\n",
       "      <td>19240</td>\n",
       "      <td>2</td>\n",
       "      <td>168</td>\n",
       "      <td>76.0</td>\n",
       "      <td>120</td>\n",
       "      <td>80</td>\n",
       "      <td>1</td>\n",
       "      <td>1</td>\n",
       "      <td>1</td>\n",
       "      <td>0</td>\n",
       "      <td>1</td>\n",
       "      <td>0</td>\n",
       "    </tr>\n",
       "    <tr>\n",
       "      <th>69996</th>\n",
       "      <td>22601</td>\n",
       "      <td>1</td>\n",
       "      <td>158</td>\n",
       "      <td>126.0</td>\n",
       "      <td>140</td>\n",
       "      <td>90</td>\n",
       "      <td>2</td>\n",
       "      <td>2</td>\n",
       "      <td>0</td>\n",
       "      <td>0</td>\n",
       "      <td>1</td>\n",
       "      <td>1</td>\n",
       "    </tr>\n",
       "    <tr>\n",
       "      <th>69997</th>\n",
       "      <td>19066</td>\n",
       "      <td>2</td>\n",
       "      <td>183</td>\n",
       "      <td>105.0</td>\n",
       "      <td>180</td>\n",
       "      <td>90</td>\n",
       "      <td>3</td>\n",
       "      <td>1</td>\n",
       "      <td>0</td>\n",
       "      <td>1</td>\n",
       "      <td>0</td>\n",
       "      <td>1</td>\n",
       "    </tr>\n",
       "    <tr>\n",
       "      <th>69998</th>\n",
       "      <td>22431</td>\n",
       "      <td>1</td>\n",
       "      <td>163</td>\n",
       "      <td>72.0</td>\n",
       "      <td>135</td>\n",
       "      <td>80</td>\n",
       "      <td>1</td>\n",
       "      <td>2</td>\n",
       "      <td>0</td>\n",
       "      <td>0</td>\n",
       "      <td>0</td>\n",
       "      <td>1</td>\n",
       "    </tr>\n",
       "    <tr>\n",
       "      <th>69999</th>\n",
       "      <td>20540</td>\n",
       "      <td>1</td>\n",
       "      <td>170</td>\n",
       "      <td>72.0</td>\n",
       "      <td>120</td>\n",
       "      <td>80</td>\n",
       "      <td>2</td>\n",
       "      <td>1</td>\n",
       "      <td>0</td>\n",
       "      <td>0</td>\n",
       "      <td>1</td>\n",
       "      <td>0</td>\n",
       "    </tr>\n",
       "  </tbody>\n",
       "</table>\n",
       "<p>70000 rows × 12 columns</p>\n",
       "</div>"
      ],
      "text/plain": [
       "         age  gender  height  weight  ap_hi  ap_lo  cholesterol  gluc  smoke  \\\n",
       "0      18393       2     168    62.0    110     80            1     1      0   \n",
       "1      20228       1     156    85.0    140     90            3     1      0   \n",
       "2      18857       1     165    64.0    130     70            3     1      0   \n",
       "3      17623       2     169    82.0    150    100            1     1      0   \n",
       "4      17474       1     156    56.0    100     60            1     1      0   \n",
       "...      ...     ...     ...     ...    ...    ...          ...   ...    ...   \n",
       "69995  19240       2     168    76.0    120     80            1     1      1   \n",
       "69996  22601       1     158   126.0    140     90            2     2      0   \n",
       "69997  19066       2     183   105.0    180     90            3     1      0   \n",
       "69998  22431       1     163    72.0    135     80            1     2      0   \n",
       "69999  20540       1     170    72.0    120     80            2     1      0   \n",
       "\n",
       "       alco  active  cardio  \n",
       "0         0       1       0  \n",
       "1         0       1       1  \n",
       "2         0       0       1  \n",
       "3         0       1       1  \n",
       "4         0       0       0  \n",
       "...     ...     ...     ...  \n",
       "69995     0       1       0  \n",
       "69996     0       1       1  \n",
       "69997     1       0       1  \n",
       "69998     0       0       1  \n",
       "69999     0       1       0  \n",
       "\n",
       "[70000 rows x 12 columns]"
      ]
     },
     "execution_count": 3,
     "metadata": {},
     "output_type": "execute_result"
    }
   ],
   "source": [
    "data.drop(labels = 'id', axis = 1, inplace = True)\n",
    "data"
   ]
  },
  {
   "cell_type": "code",
   "execution_count": 4,
   "id": "a5938a12",
   "metadata": {},
   "outputs": [
    {
     "data": {
      "image/png": "[encoded data removed]",
      "text/plain": [
       "<Figure size 432x288 with 1 Axes>"
      ]
     },
     "metadata": {
      "needs_background": "light"
     },
     "output_type": "display_data"
    }
   ],
   "source": [
    "# Check how many samples of each class there are and plot it \n",
    "data['cardio'].value_counts().plot(kind = 'bar');"
   ]
  },
  {
   "cell_type": "code",
   "execution_count": 5,
   "id": "fcb8b87b",
   "metadata": {},
   "outputs": [
    {
     "name": "stdout",
     "output_type": "stream",
     "text": [
      "<class 'pandas.core.frame.DataFrame'>\n",
      "RangeIndex: 70000 entries, 0 to 69999\n",
      "Data columns (total 12 columns):\n",
      " #   Column       Non-Null Count  Dtype  \n",
      "---  ------       --------------  -----  \n",
      " 0   age          70000 non-null  int64  \n",
      " 1   gender       70000 non-null  int64  \n",
      " 2   height       70000 non-null  int64  \n",
      " 3   weight       70000 non-null  float64\n",
      " 4   ap_hi        70000 non-null  int64  \n",
      " 5   ap_lo        70000 non-null  int64  \n",
      " 6   cholesterol  70000 non-null  int64  \n",
      " 7   gluc         70000 non-null  int64  \n",
      " 8   smoke        70000 non-null  int64  \n",
      " 9   alco         70000 non-null  int64  \n",
      " 10  active       70000 non-null  int64  \n",
      " 11  cardio       70000 non-null  int64  \n",
      "dtypes: float64(1), int64(11)\n",
      "memory usage: 6.4 MB\n"
     ]
    }
   ],
   "source": [
    "# check datatypes in our data\n",
    "data.info()"
   ]
  },
  {
   "cell_type": "code",
   "execution_count": 6,
   "id": "38dbd47a",
   "metadata": {},
   "outputs": [
    {
     "data": {
      "text/html": [
       "<div>\n",
       "<style scoped>\n",
       "    .dataframe tbody tr th:only-of-type {\n",
       "        vertical-align: middle;\n",
       "    }\n",
       "\n",
       "    .dataframe tbody tr th {\n",
       "        vertical-align: top;\n",
       "    }\n",
       "\n",
       "    .dataframe thead th {\n",
       "        text-align: right;\n",
       "    }\n",
       "</style>\n",
       "<table border=\"1\" class=\"dataframe\">\n",
       "  <thead>\n",
       "    <tr style=\"text-align: right;\">\n",
       "      <th></th>\n",
       "      <th>age</th>\n",
       "      <th>gender</th>\n",
       "      <th>height</th>\n",
       "      <th>weight</th>\n",
       "      <th>ap_hi</th>\n",
       "      <th>ap_lo</th>\n",
       "      <th>cholesterol</th>\n",
       "      <th>gluc</th>\n",
       "      <th>smoke</th>\n",
       "      <th>alco</th>\n",
       "      <th>active</th>\n",
       "      <th>cardio</th>\n",
       "    </tr>\n",
       "  </thead>\n",
       "  <tbody>\n",
       "    <tr>\n",
       "      <th>count</th>\n",
       "      <td>70000.000000</td>\n",
       "      <td>70000.000000</td>\n",
       "      <td>70000.000000</td>\n",
       "      <td>70000.000000</td>\n",
       "      <td>70000.000000</td>\n",
       "      <td>70000.000000</td>\n",
       "      <td>70000.000000</td>\n",
       "      <td>70000.000000</td>\n",
       "      <td>70000.000000</td>\n",
       "      <td>70000.000000</td>\n",
       "      <td>70000.000000</td>\n",
       "      <td>70000.000000</td>\n",
       "    </tr>\n",
       "    <tr>\n",
       "      <th>mean</th>\n",
       "      <td>19468.865814</td>\n",
       "      <td>1.349571</td>\n",
       "      <td>164.359229</td>\n",
       "      <td>74.205690</td>\n",
       "      <td>128.817286</td>\n",
       "      <td>96.630414</td>\n",
       "      <td>1.366871</td>\n",
       "      <td>1.226457</td>\n",
       "      <td>0.088129</td>\n",
       "      <td>0.053771</td>\n",
       "      <td>0.803729</td>\n",
       "      <td>0.499700</td>\n",
       "    </tr>\n",
       "    <tr>\n",
       "      <th>std</th>\n",
       "      <td>2467.251667</td>\n",
       "      <td>0.476838</td>\n",
       "      <td>8.210126</td>\n",
       "      <td>14.395757</td>\n",
       "      <td>154.011419</td>\n",
       "      <td>188.472530</td>\n",
       "      <td>0.680250</td>\n",
       "      <td>0.572270</td>\n",
       "      <td>0.283484</td>\n",
       "      <td>0.225568</td>\n",
       "      <td>0.397179</td>\n",
       "      <td>0.500003</td>\n",
       "    </tr>\n",
       "    <tr>\n",
       "      <th>min</th>\n",
       "      <td>10798.000000</td>\n",
       "      <td>1.000000</td>\n",
       "      <td>55.000000</td>\n",
       "      <td>10.000000</td>\n",
       "      <td>-150.000000</td>\n",
       "      <td>-70.000000</td>\n",
       "      <td>1.000000</td>\n",
       "      <td>1.000000</td>\n",
       "      <td>0.000000</td>\n",
       "      <td>0.000000</td>\n",
       "      <td>0.000000</td>\n",
       "      <td>0.000000</td>\n",
       "    </tr>\n",
       "    <tr>\n",
       "      <th>25%</th>\n",
       "      <td>17664.000000</td>\n",
       "      <td>1.000000</td>\n",
       "      <td>159.000000</td>\n",
       "      <td>65.000000</td>\n",
       "      <td>120.000000</td>\n",
       "      <td>80.000000</td>\n",
       "      <td>1.000000</td>\n",
       "      <td>1.000000</td>\n",
       "      <td>0.000000</td>\n",
       "      <td>0.000000</td>\n",
       "      <td>1.000000</td>\n",
       "      <td>0.000000</td>\n",
       "    </tr>\n",
       "    <tr>\n",
       "      <th>50%</th>\n",
       "      <td>19703.000000</td>\n",
       "      <td>1.000000</td>\n",
       "      <td>165.000000</td>\n",
       "      <td>72.000000</td>\n",
       "      <td>120.000000</td>\n",
       "      <td>80.000000</td>\n",
       "      <td>1.000000</td>\n",
       "      <td>1.000000</td>\n",
       "      <td>0.000000</td>\n",
       "      <td>0.000000</td>\n",
       "      <td>1.000000</td>\n",
       "      <td>0.000000</td>\n",
       "    </tr>\n",
       "    <tr>\n",
       "      <th>75%</th>\n",
       "      <td>21327.000000</td>\n",
       "      <td>2.000000</td>\n",
       "      <td>170.000000</td>\n",
       "      <td>82.000000</td>\n",
       "      <td>140.000000</td>\n",
       "      <td>90.000000</td>\n",
       "      <td>2.000000</td>\n",
       "      <td>1.000000</td>\n",
       "      <td>0.000000</td>\n",
       "      <td>0.000000</td>\n",
       "      <td>1.000000</td>\n",
       "      <td>1.000000</td>\n",
       "    </tr>\n",
       "    <tr>\n",
       "      <th>max</th>\n",
       "      <td>23713.000000</td>\n",
       "      <td>2.000000</td>\n",
       "      <td>250.000000</td>\n",
       "      <td>200.000000</td>\n",
       "      <td>16020.000000</td>\n",
       "      <td>11000.000000</td>\n",
       "      <td>3.000000</td>\n",
       "      <td>3.000000</td>\n",
       "      <td>1.000000</td>\n",
       "      <td>1.000000</td>\n",
       "      <td>1.000000</td>\n",
       "      <td>1.000000</td>\n",
       "    </tr>\n",
       "  </tbody>\n",
       "</table>\n",
       "</div>"
      ],
      "text/plain": [
       "                age        gender        height        weight         ap_hi  \\\n",
       "count  70000.000000  70000.000000  70000.000000  70000.000000  70000.000000   \n",
       "mean   19468.865814      1.349571    164.359229     74.205690    128.817286   \n",
       "std     2467.251667      0.476838      8.210126     14.395757    154.011419   \n",
       "min    10798.000000      1.000000     55.000000     10.000000   -150.000000   \n",
       "25%    17664.000000      1.000000    159.000000     65.000000    120.000000   \n",
       "50%    19703.000000      1.000000    165.000000     72.000000    120.000000   \n",
       "75%    21327.000000      2.000000    170.000000     82.000000    140.000000   \n",
       "max    23713.000000      2.000000    250.000000    200.000000  16020.000000   \n",
       "\n",
       "              ap_lo   cholesterol          gluc         smoke          alco  \\\n",
       "count  70000.000000  70000.000000  70000.000000  70000.000000  70000.000000   \n",
       "mean      96.630414      1.366871      1.226457      0.088129      0.053771   \n",
       "std      188.472530      0.680250      0.572270      0.283484      0.225568   \n",
       "min      -70.000000      1.000000      1.000000      0.000000      0.000000   \n",
       "25%       80.000000      1.000000      1.000000      0.000000      0.000000   \n",
       "50%       80.000000      1.000000      1.000000      0.000000      0.000000   \n",
       "75%       90.000000      2.000000      1.000000      0.000000      0.000000   \n",
       "max    11000.000000      3.000000      3.000000      1.000000      1.000000   \n",
       "\n",
       "             active        cardio  \n",
       "count  70000.000000  70000.000000  \n",
       "mean       0.803729      0.499700  \n",
       "std        0.397179      0.500003  \n",
       "min        0.000000      0.000000  \n",
       "25%        1.000000      0.000000  \n",
       "50%        1.000000      0.000000  \n",
       "75%        1.000000      1.000000  \n",
       "max        1.000000      1.000000  "
      ]
     },
     "execution_count": 6,
     "metadata": {},
     "output_type": "execute_result"
    }
   ],
   "source": [
    "# view information about our data\n",
    "data.describe()"
   ]
  },
  {
   "cell_type": "code",
   "execution_count": 7,
   "id": "ed7a5b58",
   "metadata": {},
   "outputs": [
    {
     "data": {
      "image/png": "[encoded data removed]",
      "text/plain": [
       "<Figure size 432x288 with 1 Axes>"
      ]
     },
     "metadata": {
      "needs_background": "light"
     },
     "output_type": "display_data"
    }
   ],
   "source": [
    "# use pd.crosstab to check the heart disease frequency acording to the gender and plot it\n",
    "pd.crosstab(data['cardio'], data['gender']).plot(kind = 'bar')\n",
    "plt.xlabel('0 = no heart disease, 1 = heart disease')\n",
    "plt.legend(['woman','man'])\n",
    "plt.show()"
   ]
  },
  {
   "cell_type": "markdown",
   "id": "daf503be",
   "metadata": {},
   "source": [
    "#### We can se that it is more common for women to have heart disease in this dataset \n",
    "\n",
    "### View the distribution of the age using a histogram (remember that the age is in days)"
   ]
  },
  {
   "cell_type": "code",
   "execution_count": 8,
   "id": "da955b5e",
   "metadata": {},
   "outputs": [
    {
     "data": {
      "text/plain": [
       "<AxesSubplot:>"
      ]
     },
     "execution_count": 8,
     "metadata": {},
     "output_type": "execute_result"
    },
    {
     "data": {
      "image/png": "[encoded data removed]",
      "text/plain": [
       "<Figure size 432x288 with 1 Axes>"
      ]
     },
     "metadata": {
      "needs_background": "light"
     },
     "output_type": "display_data"
    }
   ],
   "source": [
    "data['age'].T.hist(bins = 40)"
   ]
  },
  {
   "cell_type": "markdown",
   "id": "91f6dafc",
   "metadata": {},
   "source": [
    "### Make a correlation matrix and plot it using seaborn "
   ]
  },
  {
   "cell_type": "code",
   "execution_count": 9,
   "id": "9e936f69",
   "metadata": {},
   "outputs": [
    {
     "data": {
      "image/png": "[encoded data removed]",
      "text/plain": [
       "<Figure size 1080x720 with 2 Axes>"
      ]
     },
     "metadata": {
      "needs_background": "light"
     },
     "output_type": "display_data"
    }
   ],
   "source": [
    "corr_matrix = data.corr()\n",
    "fig, ax = plt.subplots(figsize = (15,10))\n",
    "ax = sns.heatmap(\n",
    "    corr_matrix, \n",
    "    annot = True, \n",
    "    linewidths = 0.5,\n",
    "    fmt = '0.2f', \n",
    "    cmap = 'GnBu'\n",
    ")"
   ]
  },
  {
   "cell_type": "markdown",
   "id": "1a3fe9af",
   "metadata": {},
   "source": [
    "### We can se a positive correlation betweeen the gender an if the patient smoke or not, lets see it in a bar graph "
   ]
  },
  {
   "cell_type": "code",
   "execution_count": 10,
   "id": "0b2dd235",
   "metadata": {},
   "outputs": [
    {
     "data": {
      "image/png": "[encoded data removed]",
      "text/plain": [
       "<Figure size 432x288 with 1 Axes>"
      ]
     },
     "metadata": {
      "needs_background": "light"
     },
     "output_type": "display_data"
    }
   ],
   "source": [
    "pd.crosstab(data['smoke'], data['gender']).plot(kind = 'bar')\n",
    "plt.xlabel('0 = no smoke, 1 = smoke')\n",
    "plt.legend(['woman','man'])\n",
    "plt.show()"
   ]
  },
  {
   "cell_type": "markdown",
   "id": "f948d704",
   "metadata": {},
   "source": [
    "#### In proportion, there are many more male smokers than female smokers \n",
    "\n",
    "## Creating models"
   ]
  },
  {
   "cell_type": "code",
   "execution_count": 11,
   "id": "2daf4ac1",
   "metadata": {},
   "outputs": [],
   "source": [
    "# Split data into X and y\n",
    "X = data.drop(labels = 'cardio', axis = 1)\n",
    "y = data['cardio']"
   ]
  },
  {
   "cell_type": "code",
   "execution_count": 12,
   "id": "e90e491c",
   "metadata": {},
   "outputs": [],
   "source": [
    "# split the data into training and test datasets\n",
    "np.random.seed(42)\n",
    "X_train, X_test, y_train, y_test = train_test_split(X, y, test_size = 0.2)"
   ]
  },
  {
   "cell_type": "markdown",
   "id": "8a964417",
   "metadata": {},
   "source": [
    "#### In this notebook we are going to build, test and tune 2 sklearn machine learning models\n",
    " - `RandomForestClassifier()`\n",
    " - `LogisticRegression()`"
   ]
  },
  {
   "cell_type": "markdown",
   "id": "e1bc1fed",
   "metadata": {},
   "source": [
    "### Create and fit a stock random forest classifier"
   ]
  },
  {
   "cell_type": "code",
   "execution_count": 13,
   "id": "fe43deb5",
   "metadata": {},
   "outputs": [
    {
     "data": {
      "text/plain": [
       "RandomForestClassifier()"
      ]
     },
     "execution_count": 13,
     "metadata": {},
     "output_type": "execute_result"
    }
   ],
   "source": [
    "np.random.seed(7)\n",
    "clf = RandomForestClassifier()\n",
    "clf.fit(X_train, y_train)"
   ]
  },
  {
   "cell_type": "code",
   "execution_count": 14,
   "id": "6e2f07ec",
   "metadata": {},
   "outputs": [
    {
     "data": {
      "text/plain": [
       "0.7135"
      ]
     },
     "execution_count": 14,
     "metadata": {},
     "output_type": "execute_result"
    }
   ],
   "source": [
    "# evaluate the stock model on test data\n",
    "clf.score(X_test, y_test)"
   ]
  },
  {
   "cell_type": "markdown",
   "id": "44d60515",
   "metadata": {},
   "source": [
    "### Improving this score tuning the hyperparameters with `RandomizedSearchCV()`"
   ]
  },
  {
   "cell_type": "code",
   "execution_count": 15,
   "id": "d6133250",
   "metadata": {},
   "outputs": [],
   "source": [
    "# grid of hyperparameters to tune\n",
    "random_forest_grid = {\n",
    "    'n_estimators': np.arange(10,1000, 50),\n",
    "    'max_depth': [None, 3, 5, 10],\n",
    "    'min_samples_split': np.arange(2,20,2),\n",
    "    'min_samples_leaf': np.arange(1,20,2)\n",
    "}"
   ]
  },
  {
   "cell_type": "code",
   "execution_count": 16,
   "id": "d5b9e27d",
   "metadata": {},
   "outputs": [
    {
     "name": "stdout",
     "output_type": "stream",
     "text": [
      "Fitting 5 folds for each of 25 candidates, totalling 125 fits\n"
     ]
    },
    {
     "data": {
      "text/plain": [
       "RandomizedSearchCV(cv=5, estimator=RandomForestClassifier(), n_iter=25,\n",
       "                   n_jobs=-1,\n",
       "                   param_distributions={'max_depth': [None, 3, 5, 10],\n",
       "                                        'min_samples_leaf': array([ 1,  3,  5,  7,  9, 11, 13, 15, 17, 19]),\n",
       "                                        'min_samples_split': array([ 2,  4,  6,  8, 10, 12, 14, 16, 18]),\n",
       "                                        'n_estimators': array([ 10,  60, 110, 160, 210, 260, 310, 360, 410, 460, 510, 560, 610,\n",
       "       660, 710, 760, 810, 860, 910, 960])},\n",
       "                   verbose=True)"
      ]
     },
     "execution_count": 16,
     "metadata": {},
     "output_type": "execute_result"
    }
   ],
   "source": [
    "np.random.seed(7)\n",
    "\n",
    "random_search_rf = RandomizedSearchCV(\n",
    "    RandomForestClassifier(),\n",
    "    param_distributions = random_forest_grid,\n",
    "    cv = 5,\n",
    "    n_iter = 25,\n",
    "    verbose = True,\n",
    "    n_jobs = -1\n",
    ")\n",
    "\n",
    "# Fit random search for random forest classifier\n",
    "random_search_rf.fit(X_train, y_train)"
   ]
  },
  {
   "cell_type": "code",
   "execution_count": 17,
   "id": "38d0686a",
   "metadata": {},
   "outputs": [
    {
     "data": {
      "text/plain": [
       "{'n_estimators': 810,\n",
       " 'min_samples_split': 2,\n",
       " 'min_samples_leaf': 17,\n",
       " 'max_depth': None}"
      ]
     },
     "execution_count": 17,
     "metadata": {},
     "output_type": "execute_result"
    }
   ],
   "source": [
    "# check wich are the best params\n",
    "random_search_rf.best_params_"
   ]
  },
  {
   "cell_type": "code",
   "execution_count": 18,
   "id": "8709da12",
   "metadata": {},
   "outputs": [
    {
     "data": {
      "text/plain": [
       "0.7394285714285714"
      ]
     },
     "execution_count": 18,
     "metadata": {},
     "output_type": "execute_result"
    }
   ],
   "source": [
    "# evaluate the model on the test data using the score method\n",
    "random_search_rf.score(X_test, y_test)"
   ]
  },
  {
   "cell_type": "markdown",
   "id": "847a8f39",
   "metadata": {},
   "source": [
    "### Evaluating the RandomForestClassifier model"
   ]
  },
  {
   "cell_type": "code",
   "execution_count": 19,
   "id": "98b159b5",
   "metadata": {},
   "outputs": [],
   "source": [
    "# make some predictions to calculate evaluation metrics\n",
    "y_preds = random_search_rf.predict(X_test)"
   ]
  },
  {
   "cell_type": "code",
   "execution_count": 20,
   "id": "4f700d5c",
   "metadata": {},
   "outputs": [
    {
     "data": {
      "text/plain": [
       "array([1, 1, 1, ..., 1, 1, 1], dtype=int64)"
      ]
     },
     "execution_count": 20,
     "metadata": {},
     "output_type": "execute_result"
    }
   ],
   "source": [
    "y_preds"
   ]
  },
  {
   "cell_type": "markdown",
   "id": "2ab4843e",
   "metadata": {},
   "source": [
    "### ROC curve and Area under the curve\n",
    "AUC of 0.8 is acceptable, but not exellent "
   ]
  },
  {
   "cell_type": "code",
   "execution_count": 21,
   "id": "66db4e3f",
   "metadata": {},
   "outputs": [
    {
     "data": {
      "image/png": "[encoded data removed]",
      "text/plain": [
       "<Figure size 432x288 with 1 Axes>"
      ]
     },
     "metadata": {
      "needs_background": "light"
     },
     "output_type": "display_data"
    }
   ],
   "source": [
    "plot_roc_curve(random_search_rf, X_test, y_test);"
   ]
  },
  {
   "cell_type": "markdown",
   "id": "fdd12d4d",
   "metadata": {},
   "source": [
    "### Making a confussion matrix and ploting it using `sns.heatmap`"
   ]
  },
  {
   "cell_type": "code",
   "execution_count": 22,
   "id": "5804996d",
   "metadata": {},
   "outputs": [],
   "source": [
    "# make a fucntion for ploting the confussion matrix for later use\n",
    "sns.set(font_scale = 1.5)\n",
    "def conf_matrix(y_true, y_preds):\n",
    "    fig, ax = plt.subplots(figsize = (5,5))\n",
    "    ax = sns.heatmap(\n",
    "        confusion_matrix(y_true,y_preds),\n",
    "        annot=True,\n",
    "        cbar = False,\n",
    "        fmt = 'g'\n",
    "    ) \n",
    "    plt.xlabel('Predicted Label')\n",
    "    plt.ylabel('True Label')"
   ]
  },
  {
   "cell_type": "code",
   "execution_count": 23,
   "id": "8ef8c423",
   "metadata": {},
   "outputs": [
    {
     "data": {
      "image/png": "[encoded data removed]",
      "text/plain": [
       "<Figure size 360x360 with 1 Axes>"
      ]
     },
     "metadata": {},
     "output_type": "display_data"
    }
   ],
   "source": [
    "# plotting the confusion matrix of our randomforestclassifier model\n",
    "conf_matrix(y_test,y_preds)"
   ]
  },
  {
   "cell_type": "markdown",
   "id": "1f19f3f9",
   "metadata": {},
   "source": [
    "The confusion matrix shows a high number of false-negative predictions, lets see the precision predicting each category with a classification report:\n",
    "\n",
    "### Classification report"
   ]
  },
  {
   "cell_type": "code",
   "execution_count": 24,
   "id": "f5a55553",
   "metadata": {},
   "outputs": [
    {
     "name": "stdout",
     "output_type": "stream",
     "text": [
      "              precision    recall  f1-score   support\n",
      "\n",
      "           0       0.72      0.78      0.75      6988\n",
      "           1       0.76      0.70      0.73      7012\n",
      "\n",
      "    accuracy                           0.74     14000\n",
      "   macro avg       0.74      0.74      0.74     14000\n",
      "weighted avg       0.74      0.74      0.74     14000\n",
      "\n"
     ]
    }
   ],
   "source": [
    "print(classification_report(y_test, y_preds))"
   ]
  },
  {
   "cell_type": "markdown",
   "id": "442e0e09",
   "metadata": {},
   "source": [
    "### Evaluation metrics calculated using cross validation"
   ]
  },
  {
   "cell_type": "code",
   "execution_count": 25,
   "id": "282c7722",
   "metadata": {},
   "outputs": [
    {
     "data": {
      "text/plain": [
       "{'n_estimators': 810,\n",
       " 'min_samples_split': 2,\n",
       " 'min_samples_leaf': 17,\n",
       " 'max_depth': None}"
      ]
     },
     "execution_count": 25,
     "metadata": {},
     "output_type": "execute_result"
    }
   ],
   "source": [
    "# Check the best params for the RandomForestClassifier\n",
    "random_search_rf.best_params_"
   ]
  },
  {
   "cell_type": "code",
   "execution_count": 26,
   "id": "3331a8c4",
   "metadata": {},
   "outputs": [],
   "source": [
    "# Create a RandomForestClassifier instance with the best params\n",
    "rf_clf = RandomForestClassifier(\n",
    "    n_estimators = 910,\n",
    "    min_samples_split = 4,\n",
    "    min_samples_leaf = 15,\n",
    "    max_depth = 10\n",
    ")"
   ]
  },
  {
   "cell_type": "code",
   "execution_count": 27,
   "id": "5437299c",
   "metadata": {},
   "outputs": [],
   "source": [
    "# Use cross_validation and the scoring parameter to evaluate the classifier and make a function for later use\n",
    "def cv_classification_report(classifier, X, y):\n",
    "    \n",
    "    cv_accuracy = cross_val_score(classifier, X, y, scoring = 'accuracy', n_jobs = -1)\n",
    "    cv_accuracy = np.mean(cv_accuracy)\n",
    "    \n",
    "    cv_precision = cross_val_score(classifier, X, y, scoring = 'precision', n_jobs = -1)\n",
    "    cv_precision = np.mean(cv_precision)\n",
    "    \n",
    "    cv_recall = cross_val_score(classifier,X,y,scoring = 'recall', n_jobs = -1)\n",
    "    cv_recall = np.mean(cv_recall)\n",
    "    \n",
    "    cv_f1 = cross_val_score(classifier, X, y, scoring = 'f1', n_jobs = -1)\n",
    "    cv_f1 = np.mean(cv_f1)\n",
    "    \n",
    "    return {\n",
    "    'Accuracy': cv_accuracy,\n",
    "    'Precision': cv_precision,\n",
    "    'Recall': cv_recall,\n",
    "    'F1 Score': cv_f1\n",
    "    }"
   ]
  },
  {
   "cell_type": "code",
   "execution_count": 28,
   "id": "2fb20eed",
   "metadata": {},
   "outputs": [],
   "source": [
    "# use the function\n",
    "cv_metrics = cv_classification_report(rf_clf, X, y)"
   ]
  },
  {
   "cell_type": "code",
   "execution_count": 29,
   "id": "7dc47648",
   "metadata": {},
   "outputs": [
    {
     "data": {
      "text/plain": [
       "{'Accuracy': 0.7356,\n",
       " 'Precision': 0.761668775121885,\n",
       " 'Recall': 0.6850396693546112,\n",
       " 'F1 Score': 0.7212988919580127}"
      ]
     },
     "execution_count": 29,
     "metadata": {},
     "output_type": "execute_result"
    }
   ],
   "source": [
    "# view the cross-validated metrics\n",
    "cv_metrics"
   ]
  },
  {
   "cell_type": "code",
   "execution_count": 30,
   "id": "5716ba3c",
   "metadata": {},
   "outputs": [
    {
     "data": {
      "image/png": "[encoded data removed]",
      "text/plain": [
       "<Figure size 432x288 with 1 Axes>"
      ]
     },
     "metadata": {},
     "output_type": "display_data"
    }
   ],
   "source": [
    "# save the metrics in a pandas dataframe and plot it in a bar graph\n",
    "# the variable name is for 'cross-validated random forest classifier metrics'\n",
    "cv_rfc_metrics_df = pd.DataFrame(cv_metrics, index = [0]) \n",
    "\n",
    "sns.set(font_scale = 1.3)\n",
    "\n",
    "cv_rfc_metrics_df.T.plot.bar(title = 'Cross-validated random forest classifier metrics', legend = False)\n",
    "plt.yticks(np.linspace(0,1,11));"
   ]
  },
  {
   "cell_type": "markdown",
   "id": "9f11bc69",
   "metadata": {},
   "source": [
    "### Create and fit a stock LogisticRegression classifier\n",
    "\n",
    "#### Preprocing the data\n",
    "GradientDecent based model requiere data to be scaled"
   ]
  },
  {
   "cell_type": "code",
   "execution_count": 31,
   "id": "697173ea",
   "metadata": {},
   "outputs": [],
   "source": [
    "# create an instance of the scaler\n",
    "std = StandardScaler()\n",
    "\n",
    "# use StandardScaler to scale X\n",
    "X_scaled = std.fit_transform(X)"
   ]
  },
  {
   "cell_type": "code",
   "execution_count": 32,
   "id": "bc4573cf",
   "metadata": {},
   "outputs": [],
   "source": [
    "# split into train and test datasets (The s in the varible names is for scaled)\n",
    "X_train_s, X_test_s, y_train, y_test = train_test_split(X_scaled, y)"
   ]
  },
  {
   "cell_type": "code",
   "execution_count": 33,
   "id": "cac17f23",
   "metadata": {},
   "outputs": [
    {
     "data": {
      "text/plain": [
       "LogisticRegression()"
      ]
     },
     "execution_count": 33,
     "metadata": {},
     "output_type": "execute_result"
    }
   ],
   "source": [
    "lr_stock = LogisticRegression()\n",
    "lr_stock.fit(X_train_s, y_train)"
   ]
  },
  {
   "cell_type": "code",
   "execution_count": 34,
   "id": "51c678af",
   "metadata": {},
   "outputs": [
    {
     "data": {
      "text/plain": [
       "0.7252571428571428"
      ]
     },
     "execution_count": 34,
     "metadata": {},
     "output_type": "execute_result"
    }
   ],
   "source": [
    "# Evaluate the stock model on the test data using the scoring method\n",
    "lr_stock.score(X_test_s, y_test)"
   ]
  },
  {
   "cell_type": "markdown",
   "id": "8217aa1a",
   "metadata": {},
   "source": [
    "### Lets improve the model tuning the hyperparameters using RandomizedSearchCV"
   ]
  },
  {
   "cell_type": "code",
   "execution_count": 35,
   "id": "79f11c01",
   "metadata": {},
   "outputs": [
    {
     "name": "stdout",
     "output_type": "stream",
     "text": [
      "Fitting 5 folds for each of 20 candidates, totalling 100 fits\n"
     ]
    },
    {
     "data": {
      "text/plain": [
       "RandomizedSearchCV(cv=5, estimator=LogisticRegression(), n_iter=20, n_jobs=-1,\n",
       "                   param_distributions={'C': array([1.00000000e-04, 2.63665090e-04, 6.95192796e-04, 1.83298071e-03,\n",
       "       4.83293024e-03, 1.27427499e-02, 3.35981829e-02, 8.85866790e-02,\n",
       "       2.33572147e-01, 6.15848211e-01, 1.62377674e+00, 4.28133240e+00,\n",
       "       1.12883789e+01, 2.97635144e+01, 7.84759970e+01, 2.06913808e+02,\n",
       "       5.45559478e+02, 1.43844989e+03, 3.79269019e+03, 1.00000000e+04]),\n",
       "                                        'solver': ['liblinear']},\n",
       "                   verbose=True)"
      ]
     },
     "execution_count": 35,
     "metadata": {},
     "output_type": "execute_result"
    }
   ],
   "source": [
    "# grid with hyperparameters to tune\n",
    "logistic_regression_grid = {\n",
    "    'C': np.logspace(-4,4,20),\n",
    "    'solver': ['liblinear']\n",
    "}\n",
    "\n",
    "rs_logistic_regression = RandomizedSearchCV(\n",
    "    LogisticRegression(),\n",
    "    param_distributions = logistic_regression_grid,\n",
    "    cv = 5,\n",
    "    n_iter = 20,\n",
    "    verbose = True,\n",
    "    n_jobs = -1\n",
    ")\n",
    "\n",
    "# Fit the random hyperparameter search for logistic regression\n",
    "rs_logistic_regression.fit(X_train_s, y_train)"
   ]
  },
  {
   "cell_type": "code",
   "execution_count": 36,
   "id": "2de15bed",
   "metadata": {},
   "outputs": [
    {
     "data": {
      "text/plain": [
       "{'solver': 'liblinear', 'C': 78.47599703514607}"
      ]
     },
     "execution_count": 36,
     "metadata": {},
     "output_type": "execute_result"
    }
   ],
   "source": [
    "# check the best hyperparameters\n",
    "rs_logistic_regression.best_params_"
   ]
  },
  {
   "cell_type": "code",
   "execution_count": 37,
   "id": "ea8fe16b",
   "metadata": {},
   "outputs": [
    {
     "data": {
      "text/plain": [
       "0.7254857142857143"
      ]
     },
     "execution_count": 37,
     "metadata": {},
     "output_type": "execute_result"
    }
   ],
   "source": [
    "# evaluate the model on the test data using the score method\n",
    "rs_logistic_regression.score(X_test_s, y_test)"
   ]
  },
  {
   "cell_type": "markdown",
   "id": "6bd8dce3",
   "metadata": {},
   "source": [
    "### Evaluating the Logistic regression model"
   ]
  },
  {
   "cell_type": "code",
   "execution_count": 38,
   "id": "06f7828d",
   "metadata": {},
   "outputs": [
    {
     "data": {
      "text/plain": [
       "LogisticRegression(C=29.763514416313132, solver='liblinear')"
      ]
     },
     "execution_count": 38,
     "metadata": {},
     "output_type": "execute_result"
    }
   ],
   "source": [
    "# make a logistic regression classifier model with the best params\n",
    "lr_clf = LogisticRegression(\n",
    "    solver = 'liblinear',\n",
    "    C =  29.763514416313132\n",
    ")\n",
    "\n",
    "# Fit the model\n",
    "lr_clf.fit(X_train_s, y_train)"
   ]
  },
  {
   "cell_type": "code",
   "execution_count": 39,
   "id": "11e7d496",
   "metadata": {},
   "outputs": [
    {
     "data": {
      "text/plain": [
       "array([0, 1, 0, ..., 1, 0, 0], dtype=int64)"
      ]
     },
     "execution_count": 39,
     "metadata": {},
     "output_type": "execute_result"
    }
   ],
   "source": [
    "# make predictions on test data to evaluate\n",
    "lr_y_preds = lr_clf.predict(X_test_s)\n",
    "lr_y_preds"
   ]
  },
  {
   "cell_type": "markdown",
   "id": "f150a677",
   "metadata": {},
   "source": [
    "### ROC curve and Area under the curve"
   ]
  },
  {
   "cell_type": "code",
   "execution_count": 40,
   "id": "7a1bade4",
   "metadata": {},
   "outputs": [
    {
     "data": {
      "image/png": "[encoded data removed]",
      "text/plain": [
       "<Figure size 432x288 with 1 Axes>"
      ]
     },
     "metadata": {},
     "output_type": "display_data"
    }
   ],
   "source": [
    "plot_roc_curve(lr_clf, X_test_s, y_test);"
   ]
  },
  {
   "cell_type": "markdown",
   "id": "992a3a28",
   "metadata": {},
   "source": [
    "### Confusion matrix"
   ]
  },
  {
   "cell_type": "code",
   "execution_count": 41,
   "id": "1270291f",
   "metadata": {},
   "outputs": [
    {
     "data": {
      "image/png": "[encoded data removed]",
      "text/plain": [
       "<Figure size 360x360 with 1 Axes>"
      ]
     },
     "metadata": {},
     "output_type": "display_data"
    }
   ],
   "source": [
    "conf_matrix(y_test,lr_y_preds)"
   ]
  },
  {
   "cell_type": "markdown",
   "id": "e002f4e9",
   "metadata": {},
   "source": [
    "### Classification Report "
   ]
  },
  {
   "cell_type": "code",
   "execution_count": 42,
   "id": "4f4b383d",
   "metadata": {},
   "outputs": [
    {
     "name": "stdout",
     "output_type": "stream",
     "text": [
      "              precision    recall  f1-score   support\n",
      "\n",
      "           0       0.71      0.77      0.74      8790\n",
      "           1       0.74      0.69      0.71      8710\n",
      "\n",
      "    accuracy                           0.73     17500\n",
      "   macro avg       0.73      0.73      0.72     17500\n",
      "weighted avg       0.73      0.73      0.73     17500\n",
      "\n"
     ]
    }
   ],
   "source": [
    "print(classification_report(y_test,lr_y_preds))"
   ]
  },
  {
   "cell_type": "code",
   "execution_count": 43,
   "id": "2264d36c",
   "metadata": {},
   "outputs": [],
   "source": [
    "cv_lr_metrics = cv_classification_report(lr_clf, X_test_s, y_test)"
   ]
  },
  {
   "cell_type": "code",
   "execution_count": 44,
   "id": "bcbfcc09",
   "metadata": {},
   "outputs": [
    {
     "data": {
      "text/plain": [
       "{'Accuracy': 0.7156,\n",
       " 'Precision': 0.7343207344982216,\n",
       " 'Recall': 0.6717566016073478,\n",
       " 'F1 Score': 0.7016048899650729}"
      ]
     },
     "execution_count": 44,
     "metadata": {},
     "output_type": "execute_result"
    }
   ],
   "source": [
    "cv_lr_metrics"
   ]
  },
  {
   "cell_type": "code",
   "execution_count": 45,
   "id": "cbd49fb1",
   "metadata": {},
   "outputs": [
    {
     "data": {
      "image/png": "[encoded data removed]",
      "text/plain": [
       "<Figure size 432x288 with 1 Axes>"
      ]
     },
     "metadata": {},
     "output_type": "display_data"
    }
   ],
   "source": [
    "# save the metrics in a pandas dataframe and plot it in a bar graph\n",
    "cv_lr_metrics_df = pd.DataFrame(cv_lr_metrics, index = [0]) \n",
    "\n",
    "sns.set(font_scale = 1.3)\n",
    "\n",
    "cv_lr_metrics_df.T.plot.bar(title = 'Cross-validated logistic regression classifier metrics', legend = False)\n",
    "plt.yticks(np.linspace(0,1,11));"
   ]
  },
  {
   "cell_type": "markdown",
   "id": "665d0fe6",
   "metadata": {},
   "source": [
    "## Model comparison\n",
    "Now that we have 2 classifiers, one random forest classifier and one logistic regression we should compare both of them, and we have the cross validated metrics for each model in 2 variables:"
   ]
  },
  {
   "cell_type": "code",
   "execution_count": 46,
   "id": "d58481c6",
   "metadata": {},
   "outputs": [
    {
     "data": {
      "text/html": [
       "<div>\n",
       "<style scoped>\n",
       "    .dataframe tbody tr th:only-of-type {\n",
       "        vertical-align: middle;\n",
       "    }\n",
       "\n",
       "    .dataframe tbody tr th {\n",
       "        vertical-align: top;\n",
       "    }\n",
       "\n",
       "    .dataframe thead th {\n",
       "        text-align: right;\n",
       "    }\n",
       "</style>\n",
       "<table border=\"1\" class=\"dataframe\">\n",
       "  <thead>\n",
       "    <tr style=\"text-align: right;\">\n",
       "      <th></th>\n",
       "      <th>Accuracy</th>\n",
       "      <th>Precision</th>\n",
       "      <th>Recall</th>\n",
       "      <th>F1 Score</th>\n",
       "    </tr>\n",
       "  </thead>\n",
       "  <tbody>\n",
       "    <tr>\n",
       "      <th>0</th>\n",
       "      <td>0.7356</td>\n",
       "      <td>0.761669</td>\n",
       "      <td>0.68504</td>\n",
       "      <td>0.721299</td>\n",
       "    </tr>\n",
       "  </tbody>\n",
       "</table>\n",
       "</div>"
      ],
      "text/plain": [
       "   Accuracy  Precision   Recall  F1 Score\n",
       "0    0.7356   0.761669  0.68504  0.721299"
      ]
     },
     "execution_count": 46,
     "metadata": {},
     "output_type": "execute_result"
    }
   ],
   "source": [
    "# evaluation metrics for the random forest classifier\n",
    "cv_rfc_metrics_df"
   ]
  },
  {
   "cell_type": "code",
   "execution_count": 47,
   "id": "b786ed17",
   "metadata": {},
   "outputs": [
    {
     "data": {
      "text/html": [
       "<div>\n",
       "<style scoped>\n",
       "    .dataframe tbody tr th:only-of-type {\n",
       "        vertical-align: middle;\n",
       "    }\n",
       "\n",
       "    .dataframe tbody tr th {\n",
       "        vertical-align: top;\n",
       "    }\n",
       "\n",
       "    .dataframe thead th {\n",
       "        text-align: right;\n",
       "    }\n",
       "</style>\n",
       "<table border=\"1\" class=\"dataframe\">\n",
       "  <thead>\n",
       "    <tr style=\"text-align: right;\">\n",
       "      <th></th>\n",
       "      <th>Accuracy</th>\n",
       "      <th>Precision</th>\n",
       "      <th>Recall</th>\n",
       "      <th>F1 Score</th>\n",
       "    </tr>\n",
       "  </thead>\n",
       "  <tbody>\n",
       "    <tr>\n",
       "      <th>0</th>\n",
       "      <td>0.7156</td>\n",
       "      <td>0.734321</td>\n",
       "      <td>0.671757</td>\n",
       "      <td>0.701605</td>\n",
       "    </tr>\n",
       "  </tbody>\n",
       "</table>\n",
       "</div>"
      ],
      "text/plain": [
       "   Accuracy  Precision    Recall  F1 Score\n",
       "0    0.7156   0.734321  0.671757  0.701605"
      ]
     },
     "execution_count": 47,
     "metadata": {},
     "output_type": "execute_result"
    }
   ],
   "source": [
    "# evaluation metrics for the logistic regression classifier\n",
    "cv_lr_metrics_df"
   ]
  },
  {
   "cell_type": "markdown",
   "id": "52f31743",
   "metadata": {},
   "source": [
    "We can se that both models are so close, but in every metric the RandomForestClassifier wins over the Logistic Regression\n",
    "\n",
    "The RandomForestClassifier model is still in a variable:"
   ]
  },
  {
   "cell_type": "code",
   "execution_count": 48,
   "id": "90f1d60d",
   "metadata": {},
   "outputs": [
    {
     "data": {
      "text/plain": [
       "RandomForestClassifier(max_depth=10, min_samples_leaf=15, min_samples_split=4,\n",
       "                       n_estimators=910)"
      ]
     },
     "execution_count": 48,
     "metadata": {},
     "output_type": "execute_result"
    }
   ],
   "source": [
    "rf_clf"
   ]
  }
 ],
 "metadata": {
  "kernelspec": {
   "display_name": "Python 3",
   "language": "python",
   "name": "python3"
  },
  "language_info": {
   "codemirror_mode": {
    "name": "ipython",
    "version": 3
   },
   "file_extension": ".py",
   "mimetype": "text/x-python",
   "name": "python",
   "nbconvert_exporter": "python",
   "pygments_lexer": "ipython3",
   "version": "3.9.6"
  }
 },
 "nbformat": 4,
 "nbformat_minor": 5
}
